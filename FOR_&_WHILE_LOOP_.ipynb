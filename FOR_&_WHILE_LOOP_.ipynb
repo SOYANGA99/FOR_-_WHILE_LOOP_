{
 "cells": [
  {
   "cell_type": "code",
   "execution_count": 2,
   "id": "30e5d7d1",
   "metadata": {},
   "outputs": [
    {
     "name": "stdout",
     "output_type": "stream",
     "text": [
      "Current Letter: P\n",
      "Current Letter: y\n",
      "Current Letter: t\n",
      "Current Letter: o\n",
      "Current Letter: n\n"
     ]
    }
   ],
   "source": [
    "for letter in 'Python':\n",
    "    if letter=='h':\n",
    "        continue\n",
    "    print (\"Current Letter:\", letter)\n",
    "    "
   ]
  },
  {
   "cell_type": "code",
   "execution_count": 4,
   "id": "c3ff18c5",
   "metadata": {},
   "outputs": [
    {
     "name": "stdout",
     "output_type": "stream",
     "text": [
      "Current variable value:- 9\n",
      "Current variable value:- 8\n",
      "Current variable value:- 7\n",
      "Current variable value:- 6\n",
      "Current variable value:- 4\n",
      "Current variable value:- 3\n",
      "Current variable value:- 2\n",
      "Current variable value:- 1\n",
      "Current variable value:- 0\n",
      "Good Bye\n"
     ]
    }
   ],
   "source": [
    "var=10\n",
    "while var > 0:\n",
    "    var=var-1\n",
    "    if var==5:\n",
    "        continue\n",
    "    print (\"Current variable value:-\", var)\n",
    "print (\"Good Bye\")"
   ]
  },
  {
   "cell_type": "code",
   "execution_count": 5,
   "id": "a7aa3dc6",
   "metadata": {},
   "outputs": [
    {
     "name": "stdout",
     "output_type": "stream",
     "text": [
      "Current Letter: P\n",
      "Current Letter: y\n",
      "Current Letter: t\n"
     ]
    }
   ],
   "source": [
    "for letter in 'Python':\n",
    "    if letter=='h':\n",
    "        break\n",
    "    print (\"Current Letter:\", letter)\n",
    "    "
   ]
  },
  {
   "cell_type": "code",
   "execution_count": 6,
   "id": "35a27833",
   "metadata": {},
   "outputs": [
    {
     "name": "stdout",
     "output_type": "stream",
     "text": [
      "Current variable value:- 10\n",
      "Current variable value:- 9\n",
      "Current variable value:- 8\n",
      "Current variable value:- 7\n",
      "Current variable value:- 6\n",
      "Current variable value:- 5\n",
      "Current variable value:- 4\n",
      "Current variable value:- 3\n",
      "Current variable value:- 2\n",
      "Current variable value:- 1\n",
      "Good Bye\n"
     ]
    }
   ],
   "source": [
    "var=10\n",
    "while var > 0:\n",
    "    print (\"Current variable value:-\", var)\n",
    "    var=var-1\n",
    "    if var==5:\n",
    "        continue\n",
    "print (\"Good Bye\")"
   ]
  },
  {
   "cell_type": "markdown",
   "id": "1652e0d5",
   "metadata": {},
   "source": [
    "#   WAP to print natural numbers from 1 to n:-"
   ]
  },
  {
   "cell_type": "code",
   "execution_count": 7,
   "id": "d002bced",
   "metadata": {},
   "outputs": [
    {
     "name": "stdout",
     "output_type": "stream",
     "text": [
      "Enter a no:-3\n",
      "1\n",
      "2\n",
      "3\n"
     ]
    }
   ],
   "source": [
    "n=int(input(\"Enter a no:-\"))\n",
    "for no in range(1, n+1, 1):\n",
    "    print(no)"
   ]
  },
  {
   "cell_type": "markdown",
   "id": "4a7044d4",
   "metadata": {},
   "source": [
    "#   WAP to print table of n,where n is entered by the user:- "
   ]
  },
  {
   "cell_type": "code",
   "execution_count": 18,
   "id": "b13a14be",
   "metadata": {},
   "outputs": [
    {
     "name": "stdout",
     "output_type": "stream",
     "text": [
      "Enter a no:-9\n",
      "9 x 1 = 9\n",
      "9 x 2 = 18\n",
      "9 x 3 = 27\n",
      "9 x 4 = 36\n",
      "9 x 5 = 45\n",
      "9 x 6 = 54\n",
      "9 x 7 = 63\n",
      "9 x 8 = 72\n",
      "9 x 9 = 81\n",
      "9 x 10 = 90\n"
     ]
    }
   ],
   "source": [
    "i=1\n",
    "n=int(input(\"Enter a no:-\"))\n",
    "while i <= 10:\n",
    "    print(n ,'x', i, '=', n*i)\n",
    "    i=i+1"
   ]
  },
  {
   "cell_type": "code",
   "execution_count": 21,
   "id": "a2baf4c1",
   "metadata": {},
   "outputs": [
    {
     "name": "stdout",
     "output_type": "stream",
     "text": [
      "Enter a no:-9\n",
      "9 x 1 = 9\n",
      "9 x 2 = 18\n",
      "9 x 3 = 27\n",
      "9 x 4 = 36\n",
      "9 x 5 = 45\n",
      "9 x 6 = 54\n",
      "9 x 7 = 63\n",
      "9 x 8 = 72\n",
      "9 x 9 = 81\n",
      "9 x 10 = 90\n"
     ]
    }
   ],
   "source": [
    "n=int(input(\"Enter a no:-\"))\n",
    "for i in range(1,11):\n",
    "    print(n, \"x\", i, \"=\", n*i )"
   ]
  },
  {
   "cell_type": "markdown",
   "id": "bec619b0",
   "metadata": {},
   "source": [
    "#   WAP to print sum of n natural numbers"
   ]
  },
  {
   "cell_type": "code",
   "execution_count": 10,
   "id": "2ab044a6",
   "metadata": {},
   "outputs": [
    {
     "name": "stdout",
     "output_type": "stream",
     "text": [
      "Enter a no:-16\n",
      "0 + 16 = 16\n",
      "16 + 15 = 31\n",
      "31 + 14 = 45\n",
      "45 + 13 = 58\n",
      "58 + 12 = 70\n",
      "70 + 11 = 81\n",
      "81 + 10 = 91\n",
      "91 + 9 = 100\n",
      "100 + 8 = 108\n",
      "108 + 7 = 115\n",
      "115 + 6 = 121\n",
      "121 + 5 = 126\n",
      "126 + 4 = 130\n",
      "130 + 3 = 133\n",
      "133 + 2 = 135\n",
      "135 + 1 = 136\n",
      "The Sum Is:- 136\n"
     ]
    }
   ],
   "source": [
    "n=int(input(\"Enter a no:-\"))\n",
    "sum=0\n",
    "if n<0:\n",
    "    print(\"This is not a natural no\")\n",
    "else:\n",
    "    while(n>0):\n",
    "        print(sum, \"+\", n, \"=\", sum+n)\n",
    "        sum=sum+n\n",
    "        n=n-1\n",
    "print(\"The Sum Is:-\",sum)"
   ]
  },
  {
   "cell_type": "markdown",
   "id": "9d6be704",
   "metadata": {},
   "source": [
    "#   WAP to print the factorial of the given number, where nuber is entered by the      user:-"
   ]
  },
  {
   "cell_type": "code",
   "execution_count": 9,
   "id": "1ab27fc6",
   "metadata": {},
   "outputs": [
    {
     "name": "stdout",
     "output_type": "stream",
     "text": [
      "Enter a no:-7\n",
      "1 x 1 = 1\n",
      "1 x 2 = 2\n",
      "2 x 3 = 6\n",
      "6 x 4 = 24\n",
      "24 x 5 = 120\n",
      "120 x 6 = 720\n",
      "720 x 7 = 5040\n",
      "The factorial of 7 is:- 5040\n"
     ]
    }
   ],
   "source": [
    "n=int(input(\"Enter a no:-\"))\n",
    "factorial=1\n",
    "if n < 0:\n",
    "    print(\"It's not a factorial no\")\n",
    "else:\n",
    "    for i in range(1,n+1):\n",
    "        print(factorial, \"x\", i, \"=\", factorial*i)\n",
    "        factorial=factorial*i\n",
    "print(\"The factorial of\",n,\"is:-\", factorial)"
   ]
  },
  {
   "cell_type": "markdown",
   "id": "b32ba232",
   "metadata": {},
   "source": [
    "#   WAP to input sales of the month and calculate the average sales of that  month:-\n",
    "     \n",
    "     "
   ]
  },
  {
   "cell_type": "code",
   "execution_count": 11,
   "id": "c8355cac",
   "metadata": {},
   "outputs": [
    {
     "name": "stdout",
     "output_type": "stream",
     "text": [
      "Enter your sales of a month:-50000\n",
      "Average sales of the month:- 1666.6666666666667\n"
     ]
    }
   ],
   "source": [
    "sales=int(input(\"Enter your sales of a month:-\"))\n",
    "avg=sales/30\n",
    "print(\"Average sales of the month:-\", avg)"
   ]
  },
  {
   "cell_type": "code",
   "execution_count": null,
   "id": "cf0d9093",
   "metadata": {},
   "outputs": [],
   "source": []
  }
 ],
 "metadata": {
  "kernelspec": {
   "display_name": "Python 3 (ipykernel)",
   "language": "python",
   "name": "python3"
  },
  "language_info": {
   "codemirror_mode": {
    "name": "ipython",
    "version": 3
   },
   "file_extension": ".py",
   "mimetype": "text/x-python",
   "name": "python",
   "nbconvert_exporter": "python",
   "pygments_lexer": "ipython3",
   "version": "3.9.7"
  }
 },
 "nbformat": 4,
 "nbformat_minor": 5
}
